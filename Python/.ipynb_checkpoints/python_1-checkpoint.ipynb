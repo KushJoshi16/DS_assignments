{
 "cells": [
  {
   "cell_type": "code",
   "execution_count": 1,
   "id": "c7cd9cfb",
   "metadata": {},
   "outputs": [],
   "source": [
    "def highestFreqWords(s : str) -> list[int]:\n",
    "    frq = dict()\n",
    "    words = s.split(' ')\n",
    "    hf = 0\n",
    "    for word in words:\n",
    "        frq[word] = frq.get(word,0) + 1\n",
    "        hf = frq[word] if frq[word]>hf else hf\n",
    "\n",
    "    mywordlen_list = max([len(i) for i in frq if frq[i]==hf])\n",
    "    return mywordlen_list"
   ]
  },
  {
   "cell_type": "code",
   "execution_count": 2,
   "id": "d62cef5d",
   "metadata": {},
   "outputs": [
    {
     "data": {
      "text/plain": [
       "5"
      ]
     },
     "execution_count": 2,
     "metadata": {},
     "output_type": "execute_result"
    }
   ],
   "source": [
    "# Given Test case:\n",
    "s = \"write write write all the number from from from 1 to 100\"\n",
    "highestFreqWords(s)"
   ]
  },
  {
   "cell_type": "code",
   "execution_count": 3,
   "id": "5e28f8d2",
   "metadata": {},
   "outputs": [
    {
     "data": {
      "text/plain": [
       "8"
      ]
     },
     "execution_count": 3,
     "metadata": {},
     "output_type": "execute_result"
    }
   ],
   "source": [
    "# Additional Test case 1:\n",
    "s = \"Lorem ipsum dolor sit amet, consectetur adipiscing elit. Sed ut lacinia risus, et mattis nunc. Nullam pulvinar pharetra dolor sed cursus. In hac habitasse platea dictumst. Nullam ultrices ultricies lacus, a volutpat velit tristique at. Proin eu convallis leo. Vestibulum ante ipsum primis in faucibus orci luctus et ultrices posuere cubilia curae; In ultrices tristique metus, sed consequat nisl ullamcorper ut. Nulla facilisi. Fusce in consectetur justo, ut dictum quam. Nulla posuere bibendum justo ac fermentum. Pellentesque posuere, dolor nec posuere tempus, sem turpis fermentum massa, et facilisis ipsum arcu vel orci. Vestibulum lobortis lorem eu venenatis vestibulum. Etiam tincidunt libero sit amet augue venenatis congue. Etiam vel enim purus. Sed vitae tellus quam. Sed non rutrum velit. Nulla facilisi\"\n",
    "highestFreqWords(s)"
   ]
  },
  {
   "cell_type": "code",
   "execution_count": 4,
   "id": "532c2b77",
   "metadata": {},
   "outputs": [
    {
     "data": {
      "text/plain": [
       "6"
      ]
     },
     "execution_count": 4,
     "metadata": {},
     "output_type": "execute_result"
    }
   ],
   "source": [
    "# Additional Test case 2:\n",
    "s = \"This Line will Repeat 100 times \"*100\n",
    "highestFreqWords(s)"
   ]
  },
  {
   "cell_type": "code",
   "execution_count": null,
   "id": "be8aea24",
   "metadata": {},
   "outputs": [],
   "source": []
  }
 ],
 "metadata": {
  "kernelspec": {
   "display_name": "Python 3 (ipykernel)",
   "language": "python",
   "name": "python3"
  },
  "language_info": {
   "codemirror_mode": {
    "name": "ipython",
    "version": 3
   },
   "file_extension": ".py",
   "mimetype": "text/x-python",
   "name": "python",
   "nbconvert_exporter": "python",
   "pygments_lexer": "ipython3",
   "version": "3.10.9"
  }
 },
 "nbformat": 4,
 "nbformat_minor": 5
}
