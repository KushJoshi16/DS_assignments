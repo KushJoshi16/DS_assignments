{
 "cells": [
  {
   "cell_type": "markdown",
   "id": "3d23b3b3",
   "metadata": {},
   "source": [
    "Write a program to count the number of verbs, nouns, pronouns, and adjectives in a given particular phrase or paragraph, and return their respective count as a dictionary.\n",
    "Note -\n",
    "1. Write code comments wherever required for code\n",
    "2. You have to write at least 2 additional test cases in which your program will run successfully and provide an explanation for the same."
   ]
  },
  {
   "cell_type": "code",
   "execution_count": 44,
   "id": "fd450c14",
   "metadata": {},
   "outputs": [
    {
     "name": "stdout",
     "output_type": "stream",
     "text": [
      "Collecting package metadata (current_repodata.json): done\n",
      "Solving environment: done\n",
      "\n",
      "# All requested packages already installed.\n",
      "\n"
     ]
    }
   ],
   "source": [
    "!conda install -c anaconda nltk -y"
   ]
  },
  {
   "cell_type": "code",
   "execution_count": 45,
   "id": "3d8c8044",
   "metadata": {},
   "outputs": [
    {
     "name": "stderr",
     "output_type": "stream",
     "text": [
      "[nltk_data] Downloading package punkt to /Users/kushjoshi/nltk_data...\n",
      "[nltk_data]   Package punkt is already up-to-date!\n",
      "[nltk_data] Downloading package averaged_perceptron_tagger to\n",
      "[nltk_data]     /Users/kushjoshi/nltk_data...\n",
      "[nltk_data]   Package averaged_perceptron_tagger is already up-to-\n",
      "[nltk_data]       date!\n"
     ]
    }
   ],
   "source": [
    "import nltk\n",
    "nltk.download('punkt')\n",
    "nltk.download('averaged_perceptron_tagger')\n",
    "from nltk import pos_tag\n",
    "from nltk.tokenize import word_tokenize, sent_tokenize\n",
    "\n",
    "def countGrammarWords(s : str) -> dict:\n",
    "    \n",
    "    pas_tag_abv = {\"NN\":'nouns',\n",
    "                   \"VB\":'verbs',\n",
    "                   \"PR\":'pronouns',\n",
    "                   \"JJ\":'adjectives'\n",
    "                  }\n",
    "    count = {\n",
    "        \"nouns\": 0,\n",
    "        \"pronouns\": 0,\n",
    "        \"verbs\": 0,\n",
    "        \"adjectives\":0\n",
    "    }\n",
    "    \n",
    "    sentences = sent_tokenize(s)\n",
    "    for sentence in sentences:\n",
    "        words = word_tokenize(sentence)\n",
    "\n",
    "        tagged_words = pos_tag(words)\n",
    "\n",
    "        for word, tag in tagged_words:\n",
    "            grmrType = pas_tag_abv.get(tag[:2],-1)\n",
    "            if grmrType in count:\n",
    "                count[grmrType] = count.get(grmrType,0) + 1\n",
    "\n",
    "    return count"
   ]
  },
  {
   "cell_type": "code",
   "execution_count": 46,
   "id": "e695cc58",
   "metadata": {},
   "outputs": [
    {
     "name": "stdout",
     "output_type": "stream",
     "text": [
      "{'nouns': 5, 'pronouns': 1, 'verbs': 3, 'adjectives': 2}\n"
     ]
    }
   ],
   "source": [
    "# Additional Test Case 1:\n",
    "s = \"This is a string with Kush as Noun. It is a good and simple example for the given Question.\"\n",
    "counts = countGrammarWords(s)\n",
    "print(counts)"
   ]
  },
  {
   "cell_type": "code",
   "execution_count": 47,
   "id": "03d9d9a3",
   "metadata": {},
   "outputs": [
    {
     "name": "stdout",
     "output_type": "stream",
     "text": [
      "{'nouns': 9, 'pronouns': 4, 'verbs': 10, 'adjectives': 3}\n"
     ]
    }
   ],
   "source": [
    "# Additional Test Case 2:\n",
    "s = \"\"\"Ineuron has assignments which seem like a lot of work to us. \n",
    "\n",
    "Untill you start to do the assignments which then turn out to be fun and interesting.\n",
    "\n",
    "You get to learn a lot while just completing assignments! It is a wonderfull experience\"\"\"\n",
    "counts = countGrammarWords(s)\n",
    "print(counts)"
   ]
  },
  {
   "cell_type": "code",
   "execution_count": null,
   "id": "3b0ea029",
   "metadata": {},
   "outputs": [],
   "source": []
  }
 ],
 "metadata": {
  "kernelspec": {
   "display_name": "Python 3 (ipykernel)",
   "language": "python",
   "name": "python3"
  },
  "language_info": {
   "codemirror_mode": {
    "name": "ipython",
    "version": 3
   },
   "file_extension": ".py",
   "mimetype": "text/x-python",
   "name": "python",
   "nbconvert_exporter": "python",
   "pygments_lexer": "ipython3",
   "version": "3.10.9"
  }
 },
 "nbformat": 4,
 "nbformat_minor": 5
}
