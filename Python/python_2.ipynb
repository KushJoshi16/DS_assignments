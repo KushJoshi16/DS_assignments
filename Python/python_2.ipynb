{
 "cells": [
  {
   "cell_type": "code",
   "execution_count": 1,
   "id": "953f477d",
   "metadata": {},
   "outputs": [],
   "source": [
    "def validateString(s: str):\n",
    "    chr_cnt = [s.count(i) for i in set(s)]\n",
    "    mCharFrq = min(chr_cnt)\n",
    "    if chr_cnt.count(mCharFrq+1)<2:\n",
    "        return 'YES'\n",
    "    else:\n",
    "        return 'NO'"
   ]
  },
  {
   "cell_type": "code",
   "execution_count": 2,
   "id": "a6098530",
   "metadata": {},
   "outputs": [
    {
     "data": {
      "text/plain": [
       "'YES'"
      ]
     },
     "execution_count": 2,
     "metadata": {},
     "output_type": "execute_result"
    }
   ],
   "source": [
    "# Given Test Case 1:\n",
    "s = \"abc\"\n",
    "validateString(s)"
   ]
  },
  {
   "cell_type": "code",
   "execution_count": 3,
   "id": "3a19da87",
   "metadata": {},
   "outputs": [
    {
     "data": {
      "text/plain": [
       "'YES'"
      ]
     },
     "execution_count": 3,
     "metadata": {},
     "output_type": "execute_result"
    }
   ],
   "source": [
    "# Given Test Case 2:\n",
    "s = \"abcc\"\n",
    "validateString(s)"
   ]
  },
  {
   "cell_type": "code",
   "execution_count": 4,
   "id": "aa709942",
   "metadata": {},
   "outputs": [
    {
     "data": {
      "text/plain": [
       "'NO'"
      ]
     },
     "execution_count": 4,
     "metadata": {},
     "output_type": "execute_result"
    }
   ],
   "source": [
    "# Additional Test Case 1:\n",
    "s = \"aabbcd\"\n",
    "validateString(s)"
   ]
  },
  {
   "cell_type": "code",
   "execution_count": 5,
   "id": "495fa2de",
   "metadata": {},
   "outputs": [
    {
     "data": {
      "text/plain": [
       "'YES'"
      ]
     },
     "execution_count": 5,
     "metadata": {},
     "output_type": "execute_result"
    }
   ],
   "source": [
    "# Additional Test Case 2:\n",
    "s = 'abcdefghfehdgecba'\n",
    "validateString(s)"
   ]
  },
  {
   "cell_type": "code",
   "execution_count": null,
   "id": "efc66dd2",
   "metadata": {},
   "outputs": [],
   "source": []
  },
  {
   "cell_type": "code",
   "execution_count": null,
   "id": "c7078cf6",
   "metadata": {},
   "outputs": [],
   "source": []
  }
 ],
 "metadata": {
  "kernelspec": {
   "display_name": "Python 3 (ipykernel)",
   "language": "python",
   "name": "python3"
  },
  "language_info": {
   "codemirror_mode": {
    "name": "ipython",
    "version": 3
   },
   "file_extension": ".py",
   "mimetype": "text/x-python",
   "name": "python",
   "nbconvert_exporter": "python",
   "pygments_lexer": "ipython3",
   "version": "3.10.9"
  }
 },
 "nbformat": 4,
 "nbformat_minor": 5
}
